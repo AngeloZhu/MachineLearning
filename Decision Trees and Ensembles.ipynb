{
 "cells": [
  {
   "cell_type": "markdown",
   "metadata": {},
   "source": [
    "### Angelo Zhu\n",
    "### 59714552\n",
    "### Kaggle username: angelozhu"
   ]
  },
  {
   "cell_type": "markdown",
   "metadata": {},
   "source": [
    "## Problem 1"
   ]
  },
  {
   "cell_type": "markdown",
   "metadata": {},
   "source": [
    "### Part 1"
   ]
  },
  {
   "cell_type": "raw",
   "metadata": {},
   "source": [
    "H(y) = -(3/5) log(3/5) -(2/5) log(2/5)\n",
    "     = 0.971"
   ]
  },
  {
   "cell_type": "markdown",
   "metadata": {},
   "source": [
    "### Part 2"
   ]
  },
  {
   "cell_type": "raw",
   "metadata": {},
   "source": [
    "H(author): X = 1:   -(1/2)log(1/2) - (1/2)log(1/2) = 1\n",
    "           X = -1:  (1/4)log(1/4) - (3/4)log(3/4) = 0.811\n",
    "           Gain:    H(y) - (3/5)(1) - (2/5)(0.811) \n",
    "                    = 0.971 - 0.6 - 0.324\n",
    "                    = 0.046\n",
    "\n",
    "H(long): X = 1:   -(1)log(1) - (0)log(0) = 0\n",
    "         X = -1:  -(4/5)log(4/5) - (1/5)log(1/5) = 0.722\n",
    "         Gain:    H(y) - (1/2)(0) - (1/2)(0.722)\n",
    "                  = 0.971 - 0.360\n",
    "                  = 0.610\n",
    "\n",
    "H(research): X = 1:   -(3/7)log(3/7) - (4/7)log(4/7) = 0.985\n",
    "             X = -1:  -(1/3)log(1/3) - (2/3)log(2/3) = 0.918\n",
    "             Gain:    H(y) - (7/10)(0.985) - (3/10)(0.918)\n",
    "                      = 0.971 - 0.690 - 0.275\n",
    "                      = 0.006\n",
    "\n",
    "H(grade): X = 1:   -(2/7)log(2/7) - (5/7)log(5/7) = 0.863\n",
    "          X = -1:  -(2/3)log(2/3) - (1/3)log(1/3) = 0.918\n",
    "          Gain:    H(y) - (7/10)(0.863) - (3/10)(0.918)\n",
    "                   = 0.971 - 0.604 - 0.275\n",
    "                   = 0.091\n",
    "\n",
    "H(lottery): X = 1:   -(2/3)log(2/3) - (1/3)log(1/3) = 0.918\n",
    "            X = -1:  -(3/7)log(3/7) - (4/7)log(4/7) = 0.985\n",
    "            Gain:    H(y) - (3/10)(0.918) - (7/10)(0.985)\n",
    "                     = 0.971 - 0.275 - 0.690\n",
    "                     = 0.006\n",
    "\n",
    "Split on x2 = long"
   ]
  },
  {
   "cell_type": "markdown",
   "metadata": {},
   "source": [
    "### Part 3"
   ]
  },
  {
   "cell_type": "raw",
   "metadata": {},
   "source": [
    "Initial Tree\n",
    "                                    [0 0 1 1 0 -1\n",
    "                                     1 1 0 1 0 -1\n",
    "                                     0 1 1 1 1 -1\n",
    "                                     1 1 1 1 0 -1\n",
    "                                     0 1 0 0 0 -1\n",
    "                                     1 0 1 1 1  1\n",
    "                                     0 0 1 0 0  1\n",
    "                                     1 0 0 0 0  1\n",
    "                                     1 0 1 1 0  1\n",
    "                                     1 1 1 1 1 -1]\n",
    "                        \n",
    "Split x2    \n",
    "\n",
    "                [1 1 0 1 0 -1                           [0 0 1 1 0 -1\n",
    "                 0 1 1 1 1 -1                            1 0 1 1 1  1\n",
    "                 1 1 1 1 0 -1                            0 0 1 0 0  1\n",
    "                 0 1 0 0 0 -1                            1 0 0 0 0  1\n",
    "                 1 1 1 1 1 -1]                           1 0 1 1 0  1]\n",
    "                                 \n",
    "          Leaf here because we always predict -1           \n",
    "    \n",
    "                                     H(y)  = -(1/5)log(1/5) - (4/5)log(4/5) = 0.722\n",
    "                                     H(x1): X = 1:   -log(1) - 0 = 0\n",
    "                                            X = -1:  (1/2)log(1/2) - (1/2)log(1/2) = 1\n",
    "                                            Gain: H(y) - (4/5)(0) - (1/5)(1)\n",
    "                                                  = 0.722 - 0.2 \n",
    "                                                  = 0.522\n",
    "                                     H(x3): X = 1:   -(3/4)log(3/4) - (1/4)log(1/4) = 0.811\n",
    "                                            X = -1:  0 - log(1) = 0\n",
    "                                            Gain: H(y) - (4/5)(0.811) - (1/5)(0)\n",
    "                                                  = 0.722 - 0.649 \n",
    "                                                  = 0.073\n",
    "                                     H(x4): X = 1:   -(2/3)log(2/3) - (1/3)log(1/3) = 0.918\n",
    "                                            X = -1:  -log(1) - 0 = 0\n",
    "                                            Gain: H(y) - (3/5)(0.918) - (2/5)(0)\n",
    "                                                  = 0.722 - 0.551\n",
    "                                                  = 0.171\n",
    "                                     H(x5): X = 1:   log(1) - 0 = 0\n",
    "                                            X = -1:  -(3/4)log(3/4) - (1/4)log(1/4) = 0.811\n",
    "                                            Gain: H(y) - (1/5)(0) - (4/5)(0.811)\n",
    "                                                  = 0.722 - 0.649\n",
    "                                                  = 0.073\n",
    "\n",
    "\n",
    "Split right side on x1 because it has the greatest gain\n",
    "\n",
    "                                   [1 0 1 1 1 1                        [0 0 1 1 0 -1\n",
    "                                    1 0 0 0 0 1                         0 0 1 0 0  1]\n",
    "                                    1 0 1 1 0 1]                          \n",
    "\n",
    "                   Leaf here because we always predict 1\n",
    "                               \n",
    "                               \n",
    "Split right side on x4 because it has the greatest gain by inspection\n",
    "\n",
    "                                                   [0 0 1 1 0 -1]                        [0 0 1 0 0 1]\n",
    "                                                      Both are leaves because they predict one value"
   ]
  },
  {
   "cell_type": "markdown",
   "metadata": {},
   "source": [
    "## Problem 2"
   ]
  },
  {
   "cell_type": "markdown",
   "metadata": {},
   "source": [
    "### Part 1"
   ]
  },
  {
   "cell_type": "code",
   "execution_count": 1,
   "metadata": {},
   "outputs": [
    {
     "name": "stdout",
     "output_type": "stream",
     "text": [
      "Feature 1\n",
      "\tMinimum: 0.0\n",
      "\tMaximum: 110285.0\n",
      "\tMean: 1321.117413444699\n",
      "\tVariance: 6747189.59508532\n",
      "Feature 2\n",
      "\tMinimum: 0.0\n",
      "\tMaximum: 35.0\n",
      "\tMean: 6.5916745251246125\n",
      "\tVariance: 34.70690630279573\n",
      "Feature 3\n",
      "\tMinimum: 0.0\n",
      "\tMaximum: 51536.0\n",
      "\tMean: 1152.2732372356188\n",
      "\tVariance: 5376518.288798102\n",
      "Feature 4\n",
      "\tMinimum: 0.0\n",
      "\tMaximum: 21768.0\n",
      "\tMean: 234.8262548834703\n",
      "\tVariance: 260120.8305329767\n",
      "Feature 5\n",
      "\tMinimum: 0.0\n",
      "\tMaximum: 27210.0\n",
      "\tMean: 289.75871211100633\n",
      "\tVariance: 406615.8651128233\n"
     ]
    }
   ],
   "source": [
    "import numpy as np\n",
    "import mltools as ml\n",
    "\n",
    "X = np.genfromtxt('C:/Users/Angelo/Downloads/178-hw4-code/data/X_train.txt', delimiter=',')\n",
    "Y = np.genfromtxt('C:/Users/Angelo/Downloads/178-hw4-code/data/Y_train.txt', delimiter=',')\n",
    "X,Y = ml.shuffleData(X,Y)\n",
    "X = X[:,:41] # keep only the numeric features for now\n",
    "\n",
    "for i in range(5):\n",
    "    minimum = min(X[:,i])\n",
    "    maximum = max(X[:,i])\n",
    "    mean = np.mean(X[:,i])\n",
    "    variance = np.var(X[:,i])\n",
    "    print(\"Feature {}\\n\\tMinimum: {}\\n\\tMaximum: {}\\n\\tMean: {}\\n\\tVariance: {}\".format(i+1, minimum, maximum, mean, variance))"
   ]
  },
  {
   "cell_type": "markdown",
   "metadata": {},
   "source": [
    "### Part 2"
   ]
  },
  {
   "cell_type": "code",
   "execution_count": 2,
   "metadata": {},
   "outputs": [
    {
     "name": "stdout",
     "output_type": "stream",
     "text": [
      "Training Error for maxDepth = 50: 0.0\n",
      "Validation Error for maxDepth = 50: 0.42225815144165996\n"
     ]
    }
   ],
   "source": [
    "def find_MSE(y, yhat):\n",
    "    total = 0\n",
    "    for i in range(len(y)):\n",
    "        total += (y[i] - yhat[i])**2\n",
    "    return total/len(y)\n",
    "\n",
    "Xtr,Xva,Ytr,Yva = ml.splitData(X,Y,0.5)\n",
    "learner = ml.dtree.treeClassify(Xtr, Ytr, maxDepth=50)\n",
    "Ytr_hat = learner.predict(Xtr)\n",
    "Yva_hat = learner.predict(Xva)\n",
    "tr_error = find_MSE(Ytr, Ytr_hat)\n",
    "va_error = find_MSE(Yva, Yva_hat)\n",
    "print(\"Training Error for maxDepth = 50:\", tr_error)\n",
    "print(\"Validation Error for maxDepth = 50:\", va_error)"
   ]
  },
  {
   "cell_type": "markdown",
   "metadata": {},
   "source": [
    "### Part 3"
   ]
  },
  {
   "cell_type": "code",
   "execution_count": 3,
   "metadata": {},
   "outputs": [
    {
     "data": {
      "image/png": "[encoded data removed]",
      "text/plain": [
       "<Figure size 432x288 with 1 Axes>"
      ]
     },
     "metadata": {
      "needs_background": "light"
     },
     "output_type": "display_data"
    }
   ],
   "source": [
    "import matplotlib.pyplot as plt\n",
    "\n",
    "depths = np.array([1,2,3,4,5,6,7,8,9,10,11,12,13,14,15])\n",
    "tr_error = np.array([None] * len(depths))\n",
    "va_error = np.array([None] * len(depths))\n",
    "\n",
    "for i,maxDepth in enumerate(depths):\n",
    "    learner = ml.dtree.treeClassify(Xtr, Ytr, maxDepth=maxDepth)\n",
    "    Ytr_hat = learner.predict(Xtr)\n",
    "    Yva_hat = learner.predict(Xva)\n",
    "    tr_error[i] = find_MSE(Ytr, Ytr_hat)\n",
    "    va_error[i] = find_MSE(Yva, Yva_hat)\n",
    "    \n",
    "plt.plot(depths, tr_error, label='Training Error')\n",
    "plt.plot(depths, va_error,label='Validation Error')\n",
    "plt.show()"
   ]
  },
  {
   "cell_type": "markdown",
   "metadata": {},
   "source": [
    "Models with higher maxDepth have higher complexity.\n",
    "maxDepth of 6 provides the best decision tree model because validation error is at a minimum. We can see that maxDepths greater than 6 start overfitting because validation error keeps increasing."
   ]
  },
  {
   "cell_type": "markdown",
   "metadata": {},
   "source": [
    "### Part 4"
   ]
  },
  {
   "cell_type": "code",
   "execution_count": 4,
   "metadata": {},
   "outputs": [
    {
     "data": {
      "image/png": "[encoded data removed]",
      "text/plain": [
       "<Figure size 432x288 with 1 Axes>"
      ]
     },
     "metadata": {
      "needs_background": "light"
     },
     "output_type": "display_data"
    }
   ],
   "source": [
    "minParent = range(0, 14)\n",
    "tr_error2 = np.array([None] * len(minParent))\n",
    "va_error2 = np.array([None] * len(minParent))\n",
    "\n",
    "for i in minParent:\n",
    "    minP = np.power(2, i)\n",
    "    learner_minParent = ml.dtree.treeClassify(Xtr, Ytr, maxDepth=50, minParent=minP)\n",
    "    Ytr_hat = learner_minParent.predict(Xtr)\n",
    "    Yva_hat = learner_minParent.predict(Xva)\n",
    "    tr_error2[i] = find_MSE(Ytr, Ytr_hat)\n",
    "    va_error2[i] = find_MSE(Yva, Yva_hat)\n",
    "    \n",
    "plt.plot(minParent, tr_error2, label='Training Error')\n",
    "plt.plot(minParent, va_error2,label='Validation Error')\n",
    "plt.show()"
   ]
  },
  {
   "cell_type": "markdown",
   "metadata": {},
   "source": [
    "As minParent increases, the minimum amount of data needed to split increases, resulting in less splits. Therefore, models with higher minParent have lower complexity.\n",
    "minParent of 9 has provides the best decision tree model because it has the lowest validation error and validation error spikes for minParents greater than 11, indicating overfitting."
   ]
  },
  {
   "cell_type": "markdown",
   "metadata": {},
   "source": [
    "### Part 5"
   ]
  },
  {
   "cell_type": "code",
   "execution_count": 5,
   "metadata": {},
   "outputs": [
    {
     "data": {
      "image/png": "[encoded data removed]",
      "text/plain": [
       "<Figure size 432x288 with 1 Axes>"
      ]
     },
     "metadata": {
      "needs_background": "light"
     },
     "output_type": "display_data"
    }
   ],
   "source": [
    "minLeaf = range(1, 14) #13\n",
    "tr_error3 = np.array([None] * len(minLeaf)) #index 0->14\n",
    "va_error3 = np.array([None] * len(minLeaf))\n",
    "\n",
    "for i,minL in enumerate(minLeaf):\n",
    "    learner_minLeaf = ml.dtree.treeClassify(Xtr, Ytr, maxDepth=50, minLeaf=minL)\n",
    "    Ytr_hat = learner_minLeaf.predict(Xtr)\n",
    "    Yva_hat = learner_minLeaf.predict(Xva)\n",
    "    tr_error3[i] = find_MSE(Ytr, Ytr_hat)\n",
    "    va_error3[i] = find_MSE(Yva, Yva_hat)\n",
    "    \n",
    "plt.plot(minLeaf, tr_error3, label='Training Error')\n",
    "plt.plot(minLeaf, va_error3, label='Validation Error')\n",
    "plt.show()"
   ]
  },
  {
   "cell_type": "markdown",
   "metadata": {},
   "source": [
    "The higher the value of minLeaf, the lower the complexity, just like minParent."
   ]
  },
  {
   "cell_type": "markdown",
   "metadata": {},
   "source": [
    "### Part 6"
   ]
  },
  {
   "cell_type": "code",
   "execution_count": 6,
   "metadata": {},
   "outputs": [
    {
     "data": {
      "image/png": "[encoded data removed]",
      "text/plain": [
       "<Figure size 432x288 with 1 Axes>"
      ]
     },
     "metadata": {
      "needs_background": "light"
     },
     "output_type": "display_data"
    },
    {
     "name": "stdout",
     "output_type": "stream",
     "text": [
      "AUC Training: 0.5957635911597077\n",
      "AUC Validation: 0.5835262042879851\n"
     ]
    }
   ],
   "source": [
    "learner = ml.dtree.treeClassify(Xtr, Ytr, maxDepth=50, minParent=2**6, minLeaf=2**10)\n",
    "ROC_tr = learner.roc(Xtr, Ytr)\n",
    "ROC_va = learner.roc(Xva, Yva)\n",
    "plt.plot(ROC_tr[0], ROC_tr[1])\n",
    "plt.plot(ROC_va[0], ROC_va[1])\n",
    "plt.show()\n",
    "print(\"AUC Training:\", learner.auc(Xtr, Ytr))\n",
    "print(\"AUC Validation:\", learner.auc(Xva, Yva))"
   ]
  },
  {
   "cell_type": "markdown",
   "metadata": {},
   "source": [
    "### Part 7"
   ]
  },
  {
   "cell_type": "code",
   "execution_count": 7,
   "metadata": {},
   "outputs": [
    {
     "name": "stdout",
     "output_type": "stream",
     "text": [
      "Error: 0.32722618887242355\n",
      "AUC: 0.7483597960502969\n"
     ]
    }
   ],
   "source": [
    "X = np.genfromtxt('C:/Users/Angelo/Downloads/178-hw4-code/data/X_train.txt', delimiter=',')\n",
    "Y = np.genfromtxt('C:/Users/Angelo/Downloads/178-hw4-code/data/Y_train.txt', delimiter=',')\n",
    "\n",
    "learner = ml.dtree.treeClassify(X, Y, maxDepth=6, minParent=9, minLeaf=10)\n",
    "Yhat_kaggle = learner.predict(X)\n",
    "error_kaggle = find_MSE(Y, Yhat_kaggle)\n",
    "\n",
    "AUC_kaggle = learner.auc(X, Y)\n",
    "print(\"Error:\", error_kaggle)\n",
    "print(\"AUC:\", AUC_kaggle)\n",
    "\n",
    "Xte = np.genfromtxt('C:/Users/Angelo/Downloads/178-hw4-code/data/X_test.txt', delimiter=',')\n",
    "Yte = np.vstack((np.arange(Xte.shape[0]), learner.predictSoft(Xte)[:,1])).T\n",
    "# Output a file with two columns, a row ID and a confidence in class 1:\n",
    "np.savetxt('Y_submit.txt',Yte,'%d, %.2f',header='Id,Predicted',delimiter=',')"
   ]
  },
  {
   "cell_type": "markdown",
   "metadata": {},
   "source": [
    "Kaggle: 0.71640"
   ]
  },
  {
   "cell_type": "markdown",
   "metadata": {},
   "source": [
    "## Problem 3: Option 1 Random Forests\n",
    "\n",
    "### Part 1"
   ]
  },
  {
   "cell_type": "code",
   "execution_count": 8,
   "metadata": {},
   "outputs": [
    {
     "name": "stdout",
     "output_type": "stream",
     "text": [
      "Ensemble 1 training error: 0.25191596685493467\n",
      "\tvalidation error: 0.2599342512711559\n",
      "Ensemble 5 training error: 0.24996815140550682\n",
      "\tvalidation error: 0.25003810690191736\n",
      "Ensemble 10 training error: 0.25029120446385444\n",
      "\tvalidation error: 0.2500318592260071\n",
      "Ensemble 25 training error: 0.24986672255870995\n",
      "\tvalidation error: 0.2506268958962485\n"
     ]
    },
    {
     "data": {
      "image/png": "[encoded data removed]",
      "text/plain": [
       "<Figure size 432x288 with 1 Axes>"
      ]
     },
     "metadata": {
      "needs_background": "light"
     },
     "output_type": "display_data"
    }
   ],
   "source": [
    "from random import random\n",
    "\n",
    "X = np.genfromtxt('C:/Users/Angelo/Downloads/178-hw4-code/data/X_train.txt', delimiter=',')\n",
    "Y = np.genfromtxt('C:/Users/Angelo/Downloads/178-hw4-code/data/Y_train.txt', delimiter=',')\n",
    "X,Y = ml.shuffleData(X,Y)\n",
    "Xtr,Xva,Ytr,Yva = ml.splitData(X,Y,0.5)\n",
    "\n",
    "nBags = 25\n",
    "M,N = Xva.shape\n",
    "classifiers = [None] * nBags\n",
    "tr_error_forest = [None] * 4\n",
    "va_error_forest = [None] * 4\n",
    "Ytr_hat = np.zeros((len(Ytr), nBags))\n",
    "Yva_hat = np.zeros((len(Yva), nBags))\n",
    "\n",
    "for i in range(nBags):\n",
    "    ind = np.floor(M * np.random.rand(N)).astype(int)\n",
    "    Xi, Yi = Xva[ind,:] , Yva[ind] # select the data at those indices\n",
    "    #Xi, Yi = ml.bootstrapData(Xva, Yva)\n",
    "    classifiers[i] = ml.dtree.treeClassify(Xi, Yi, maxDepth=20, minLeaf=4, nFeatures=int(random() * N) + 1)\n",
    "    Ytr_hat[:,i] = classifiers[i].predict(Xtr)\n",
    "    Yva_hat[:,i] = classifiers[i].predict(Xva)\n",
    "\n",
    "for i,v in enumerate([1,5,10,25]):    \n",
    "    tr_error_forest[i] = np.mean((Ytr - np.mean(Ytr_hat[:,0:v]))**2)\n",
    "    va_error_forest[i] = np.mean((Yva - np.mean(Yva_hat[:,0:v]))**2)\n",
    "\n",
    "plt.plot([1,5,10,25], tr_error_forest)\n",
    "plt.plot([1,5,10,25], va_error_forest)\n",
    "for i,v in enumerate([1,5,10,25]):\n",
    "    print(\"Ensemble {} training error: {}\\n\\tvalidation error: {}\"\n",
    "          .format(v, tr_error_forest[i], va_error_forest[i]))"
   ]
  },
  {
   "cell_type": "markdown",
   "metadata": {},
   "source": [
    "### Part 2"
   ]
  },
  {
   "cell_type": "code",
   "execution_count": 9,
   "metadata": {
    "scrolled": true
   },
   "outputs": [],
   "source": [
    "# test on data Xtest\n",
    "e_size = 25\n",
    "ensemble = [None] * e_size\n",
    "mTest = X.shape[0]\n",
    "predict = np.zeros((mTest, e_size)) # Allocate space for predictions from each model\n",
    "\n",
    "for i in range(e_size):\n",
    "    ind = np.floor(M * np.random.rand(N)).astype(int)\n",
    "    Xi, Yi = X[ind,:] , Y[ind] # select the data at those indices\n",
    "    ensemble[i] = ml.dtree.treeClassify(Xi, Yi, maxDepth=20, minLeaf=4, nFeatures=int(random() * N) + 1)\n",
    "    \n",
    "    predict[:,i] = ensemble[i].predictSoft(X)[:,1] # Apply each classifier\n",
    "\n",
    "predictions = []\n",
    "for i in range(len(predict)):\n",
    "    if np.mean(predict[i]) >= 0.5:\n",
    "        predictions.append(1)\n",
    "    else:\n",
    "        predictions.append(0)\n",
    "        \n",
    "predict = np.mean(predict, axis=1)\n",
    "Xte = np.genfromtxt('C:/Users/Angelo/Downloads/178-hw4-code/data/X_test.txt', delimiter=',')\n",
    "Yte = np.vstack((np.arange(Xte.shape[0]), predict[1:])).T\n",
    "np.savetxt('Y_submit_ensemble.txt',Yte,'%d, %.2f',header='Id,Predicted',delimiter=',')"
   ]
  },
  {
   "cell_type": "markdown",
   "metadata": {},
   "source": [
    "Kaggle: 0.71630"
   ]
  },
  {
   "cell_type": "markdown",
   "metadata": {},
   "source": [
    "## Statement of Collaboration\n",
    "piazza, lecture slides for pseudocode"
   ]
  }
 ],
 "metadata": {
  "kernelspec": {
   "display_name": "Python 3",
   "language": "python",
   "name": "python3"
  },
  "language_info": {
   "codemirror_mode": {
    "name": "ipython",
    "version": 3
   },
   "file_extension": ".py",
   "mimetype": "text/x-python",
   "name": "python",
   "nbconvert_exporter": "python",
   "pygments_lexer": "ipython3",
   "version": "3.7.4"
  }
 },
 "nbformat": 4,
 "nbformat_minor": 2
}
